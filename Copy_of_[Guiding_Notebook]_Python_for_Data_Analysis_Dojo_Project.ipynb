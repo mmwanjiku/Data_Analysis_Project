{
  "nbformat": 4,
  "nbformat_minor": 0,
  "metadata": {
    "colab": {
      "name": "Copy of [Guiding Notebook] Python for Data Analysis Dojo Project",
      "provenance": [],
      "collapsed_sections": [],
      "include_colab_link": true
    },
    "kernelspec": {
      "name": "python3",
      "display_name": "Python 3"
    }
  },
  "cells": [
    {
      "cell_type": "markdown",
      "metadata": {
        "id": "view-in-github",
        "colab_type": "text"
      },
      "source": [
        "<a href=\"https://colab.research.google.com/github/mmwanjiku/Dojo_Data_Analysis_Project/blob/main/Copy_of_%5BGuiding_Notebook%5D_Python_for_Data_Analysis_Dojo_Project.ipynb\" target=\"_parent\"><img src=\"https://colab.research.google.com/assets/colab-badge.svg\" alt=\"Open In Colab\"/></a>"
      ]
    },
    {
      "cell_type": "markdown",
      "metadata": {
        "id": "fhBPy3Kwe6K5"
      },
      "source": [
        "## 1. Importing Libraries"
      ]
    },
    {
      "cell_type": "code",
      "metadata": {
        "id": "JXuJs_uBe6K7"
      },
      "source": [
        "# importing numpy for performing scientific computations\n",
        "import numpy as np\n",
        "\n",
        "# importing pandas to perform data analysis and manipulation\n",
        "import pandas as pd\n",
        "\n",
        "# importing matplotlib.pyplot for data visualization\n",
        "import matplotlib.pyplot as plt\n",
        "\n",
        "# importing seaborn for data visualization\n",
        "import seaborn as sns"
      ],
      "execution_count": null,
      "outputs": []
    },
    {
      "cell_type": "markdown",
      "metadata": {
        "id": "4VocdDVbe6LF"
      },
      "source": [
        "## 2. Loading your Dataset"
      ]
    },
    {
      "cell_type": "code",
      "metadata": {
        "id": "9NvZHEQae6LK",
        "outputId": "403273f1-4f96-4947-f7b1-8ee9164e7cbf",
        "colab": {
          "base_uri": "https://localhost:8080/",
          "height": 609
        }
      },
      "source": [
        "# store the URL to your dataset in a variable\n",
        "url = 'https://bit.ly/3lLgXwC'\n",
        "\n",
        "# load your dataset onto a Pandas data frame\n",
        "sales_df = pd.read_csv(url)\n",
        "\n",
        "# print the dataset\n",
        "sales_df "
      ],
      "execution_count": null,
      "outputs": [
        {
          "output_type": "execute_result",
          "data": {
            "text/html": [
              "<div>\n",
              "<style scoped>\n",
              "    .dataframe tbody tr th:only-of-type {\n",
              "        vertical-align: middle;\n",
              "    }\n",
              "\n",
              "    .dataframe tbody tr th {\n",
              "        vertical-align: top;\n",
              "    }\n",
              "\n",
              "    .dataframe thead th {\n",
              "        text-align: right;\n",
              "    }\n",
              "</style>\n",
              "<table border=\"1\" class=\"dataframe\">\n",
              "  <thead>\n",
              "    <tr style=\"text-align: right;\">\n",
              "      <th></th>\n",
              "      <th>invoice_id</th>\n",
              "      <th>branch</th>\n",
              "      <th>customer_type</th>\n",
              "      <th>gender</th>\n",
              "      <th>product_line</th>\n",
              "      <th>unit_price</th>\n",
              "      <th>quantity</th>\n",
              "      <th>tax_5_perc</th>\n",
              "      <th>total</th>\n",
              "      <th>date</th>\n",
              "      <th>time</th>\n",
              "      <th>payment</th>\n",
              "      <th>cost_of_goods_sold</th>\n",
              "      <th>gross_margin_percentage</th>\n",
              "      <th>gross_income</th>\n",
              "      <th>rating</th>\n",
              "    </tr>\n",
              "  </thead>\n",
              "  <tbody>\n",
              "    <tr>\n",
              "      <th>0</th>\n",
              "      <td>750-67-8428</td>\n",
              "      <td>A</td>\n",
              "      <td>Member</td>\n",
              "      <td>Female</td>\n",
              "      <td>Health and beauty</td>\n",
              "      <td>74.69</td>\n",
              "      <td>7</td>\n",
              "      <td>26.1415</td>\n",
              "      <td>548.9715</td>\n",
              "      <td>1/5/2019</td>\n",
              "      <td>13:08</td>\n",
              "      <td>Mobile Money</td>\n",
              "      <td>522.83</td>\n",
              "      <td>4.761905</td>\n",
              "      <td>26.1415</td>\n",
              "      <td>9.1</td>\n",
              "    </tr>\n",
              "    <tr>\n",
              "      <th>1</th>\n",
              "      <td>226-31-3081</td>\n",
              "      <td>C</td>\n",
              "      <td>Normal</td>\n",
              "      <td>Female</td>\n",
              "      <td>Electronic accessories</td>\n",
              "      <td>15.28</td>\n",
              "      <td>5</td>\n",
              "      <td>3.8200</td>\n",
              "      <td>80.2200</td>\n",
              "      <td>3/8/2019</td>\n",
              "      <td>10:29</td>\n",
              "      <td>Cash</td>\n",
              "      <td>76.40</td>\n",
              "      <td>4.761905</td>\n",
              "      <td>3.8200</td>\n",
              "      <td>9.6</td>\n",
              "    </tr>\n",
              "    <tr>\n",
              "      <th>2</th>\n",
              "      <td>631-41-3108</td>\n",
              "      <td>A</td>\n",
              "      <td>Normal</td>\n",
              "      <td>Male</td>\n",
              "      <td>Home and lifestyle</td>\n",
              "      <td>46.33</td>\n",
              "      <td>7</td>\n",
              "      <td>16.2155</td>\n",
              "      <td>340.5255</td>\n",
              "      <td>3/3/2019</td>\n",
              "      <td>13:23</td>\n",
              "      <td>Debit card</td>\n",
              "      <td>324.31</td>\n",
              "      <td>4.761905</td>\n",
              "      <td>16.2155</td>\n",
              "      <td>7.4</td>\n",
              "    </tr>\n",
              "    <tr>\n",
              "      <th>3</th>\n",
              "      <td>123-19-1176</td>\n",
              "      <td>A</td>\n",
              "      <td>Member</td>\n",
              "      <td>Male</td>\n",
              "      <td>Health and beauty</td>\n",
              "      <td>58.22</td>\n",
              "      <td>8</td>\n",
              "      <td>23.2880</td>\n",
              "      <td>489.0480</td>\n",
              "      <td>1/27/2019</td>\n",
              "      <td>20:33</td>\n",
              "      <td>Mobile Money</td>\n",
              "      <td>465.76</td>\n",
              "      <td>4.761905</td>\n",
              "      <td>23.2880</td>\n",
              "      <td>8.4</td>\n",
              "    </tr>\n",
              "    <tr>\n",
              "      <th>4</th>\n",
              "      <td>373-73-7910</td>\n",
              "      <td>A</td>\n",
              "      <td>Normal</td>\n",
              "      <td>Male</td>\n",
              "      <td>Sports and travel</td>\n",
              "      <td>86.31</td>\n",
              "      <td>7</td>\n",
              "      <td>30.2085</td>\n",
              "      <td>634.3785</td>\n",
              "      <td>2/8/2019</td>\n",
              "      <td>10:37</td>\n",
              "      <td>Mobile Money</td>\n",
              "      <td>604.17</td>\n",
              "      <td>4.761905</td>\n",
              "      <td>30.2085</td>\n",
              "      <td>5.3</td>\n",
              "    </tr>\n",
              "    <tr>\n",
              "      <th>...</th>\n",
              "      <td>...</td>\n",
              "      <td>...</td>\n",
              "      <td>...</td>\n",
              "      <td>...</td>\n",
              "      <td>...</td>\n",
              "      <td>...</td>\n",
              "      <td>...</td>\n",
              "      <td>...</td>\n",
              "      <td>...</td>\n",
              "      <td>...</td>\n",
              "      <td>...</td>\n",
              "      <td>...</td>\n",
              "      <td>...</td>\n",
              "      <td>...</td>\n",
              "      <td>...</td>\n",
              "      <td>...</td>\n",
              "    </tr>\n",
              "    <tr>\n",
              "      <th>995</th>\n",
              "      <td>233-67-5758</td>\n",
              "      <td>C</td>\n",
              "      <td>Normal</td>\n",
              "      <td>Male</td>\n",
              "      <td>Health and beauty</td>\n",
              "      <td>40.35</td>\n",
              "      <td>1</td>\n",
              "      <td>2.0175</td>\n",
              "      <td>42.3675</td>\n",
              "      <td>1/29/2019</td>\n",
              "      <td>13:46</td>\n",
              "      <td>Mobile Money</td>\n",
              "      <td>40.35</td>\n",
              "      <td>4.761905</td>\n",
              "      <td>2.0175</td>\n",
              "      <td>6.2</td>\n",
              "    </tr>\n",
              "    <tr>\n",
              "      <th>996</th>\n",
              "      <td>303-96-2227</td>\n",
              "      <td>B</td>\n",
              "      <td>Normal</td>\n",
              "      <td>Female</td>\n",
              "      <td>Home and lifestyle</td>\n",
              "      <td>97.38</td>\n",
              "      <td>10</td>\n",
              "      <td>48.6900</td>\n",
              "      <td>1022.4900</td>\n",
              "      <td>3/2/2019</td>\n",
              "      <td>17:16</td>\n",
              "      <td>Mobile Money</td>\n",
              "      <td>973.80</td>\n",
              "      <td>4.761905</td>\n",
              "      <td>48.6900</td>\n",
              "      <td>4.4</td>\n",
              "    </tr>\n",
              "    <tr>\n",
              "      <th>997</th>\n",
              "      <td>727-02-1313</td>\n",
              "      <td>A</td>\n",
              "      <td>Member</td>\n",
              "      <td>Male</td>\n",
              "      <td>Food and beverages</td>\n",
              "      <td>31.84</td>\n",
              "      <td>1</td>\n",
              "      <td>1.5920</td>\n",
              "      <td>33.4320</td>\n",
              "      <td>2/9/2019</td>\n",
              "      <td>13:22</td>\n",
              "      <td>Cash</td>\n",
              "      <td>31.84</td>\n",
              "      <td>4.761905</td>\n",
              "      <td>1.5920</td>\n",
              "      <td>7.7</td>\n",
              "    </tr>\n",
              "    <tr>\n",
              "      <th>998</th>\n",
              "      <td>347-56-2442</td>\n",
              "      <td>A</td>\n",
              "      <td>Normal</td>\n",
              "      <td>Male</td>\n",
              "      <td>Home and lifestyle</td>\n",
              "      <td>65.82</td>\n",
              "      <td>1</td>\n",
              "      <td>3.2910</td>\n",
              "      <td>69.1110</td>\n",
              "      <td>2/22/2019</td>\n",
              "      <td>15:33</td>\n",
              "      <td>Cash</td>\n",
              "      <td>65.82</td>\n",
              "      <td>4.761905</td>\n",
              "      <td>3.2910</td>\n",
              "      <td>4.1</td>\n",
              "    </tr>\n",
              "    <tr>\n",
              "      <th>999</th>\n",
              "      <td>849-09-3807</td>\n",
              "      <td>A</td>\n",
              "      <td>Member</td>\n",
              "      <td>Female</td>\n",
              "      <td>Fashion accessories</td>\n",
              "      <td>88.34</td>\n",
              "      <td>7</td>\n",
              "      <td>30.9190</td>\n",
              "      <td>649.2990</td>\n",
              "      <td>2/18/2019</td>\n",
              "      <td>13:28</td>\n",
              "      <td>Cash</td>\n",
              "      <td>618.38</td>\n",
              "      <td>4.761905</td>\n",
              "      <td>30.9190</td>\n",
              "      <td>6.6</td>\n",
              "    </tr>\n",
              "  </tbody>\n",
              "</table>\n",
              "<p>1000 rows × 16 columns</p>\n",
              "</div>"
            ],
            "text/plain": [
              "      invoice_id branch  ... gross_income rating\n",
              "0    750-67-8428      A  ...      26.1415    9.1\n",
              "1    226-31-3081      C  ...       3.8200    9.6\n",
              "2    631-41-3108      A  ...      16.2155    7.4\n",
              "3    123-19-1176      A  ...      23.2880    8.4\n",
              "4    373-73-7910      A  ...      30.2085    5.3\n",
              "..           ...    ...  ...          ...    ...\n",
              "995  233-67-5758      C  ...       2.0175    6.2\n",
              "996  303-96-2227      B  ...      48.6900    4.4\n",
              "997  727-02-1313      A  ...       1.5920    7.7\n",
              "998  347-56-2442      A  ...       3.2910    4.1\n",
              "999  849-09-3807      A  ...      30.9190    6.6\n",
              "\n",
              "[1000 rows x 16 columns]"
            ]
          },
          "metadata": {
            "tags": []
          },
          "execution_count": 5
        }
      ]
    },
    {
      "cell_type": "markdown",
      "metadata": {
        "id": "u4ZFwG81e6Lb"
      },
      "source": [
        "## 3. Exploring your Dataset"
      ]
    },
    {
      "cell_type": "code",
      "metadata": {
        "id": "GO9VVRBTe6Lc",
        "outputId": "b88aef9c-85e8-4ebd-84c1-e604ad001ea5",
        "colab": {
          "base_uri": "https://localhost:8080/",
          "height": 309
        }
      },
      "source": [
        "# preview the first 5 records\n",
        "sales_df.head(5)"
      ],
      "execution_count": null,
      "outputs": [
        {
          "output_type": "execute_result",
          "data": {
            "text/html": [
              "<div>\n",
              "<style scoped>\n",
              "    .dataframe tbody tr th:only-of-type {\n",
              "        vertical-align: middle;\n",
              "    }\n",
              "\n",
              "    .dataframe tbody tr th {\n",
              "        vertical-align: top;\n",
              "    }\n",
              "\n",
              "    .dataframe thead th {\n",
              "        text-align: right;\n",
              "    }\n",
              "</style>\n",
              "<table border=\"1\" class=\"dataframe\">\n",
              "  <thead>\n",
              "    <tr style=\"text-align: right;\">\n",
              "      <th></th>\n",
              "      <th>invoice_id</th>\n",
              "      <th>branch</th>\n",
              "      <th>customer_type</th>\n",
              "      <th>gender</th>\n",
              "      <th>product_line</th>\n",
              "      <th>unit_price</th>\n",
              "      <th>quantity</th>\n",
              "      <th>tax_5_perc</th>\n",
              "      <th>total</th>\n",
              "      <th>date</th>\n",
              "      <th>time</th>\n",
              "      <th>payment</th>\n",
              "      <th>cost_of_goods_sold</th>\n",
              "      <th>gross_margin_percentage</th>\n",
              "      <th>gross_income</th>\n",
              "      <th>rating</th>\n",
              "    </tr>\n",
              "  </thead>\n",
              "  <tbody>\n",
              "    <tr>\n",
              "      <th>0</th>\n",
              "      <td>750-67-8428</td>\n",
              "      <td>A</td>\n",
              "      <td>Member</td>\n",
              "      <td>Female</td>\n",
              "      <td>Health and beauty</td>\n",
              "      <td>74.69</td>\n",
              "      <td>7</td>\n",
              "      <td>26.1415</td>\n",
              "      <td>548.9715</td>\n",
              "      <td>1/5/2019</td>\n",
              "      <td>13:08</td>\n",
              "      <td>Mobile Money</td>\n",
              "      <td>522.83</td>\n",
              "      <td>4.761905</td>\n",
              "      <td>26.1415</td>\n",
              "      <td>9.1</td>\n",
              "    </tr>\n",
              "    <tr>\n",
              "      <th>1</th>\n",
              "      <td>226-31-3081</td>\n",
              "      <td>C</td>\n",
              "      <td>Normal</td>\n",
              "      <td>Female</td>\n",
              "      <td>Electronic accessories</td>\n",
              "      <td>15.28</td>\n",
              "      <td>5</td>\n",
              "      <td>3.8200</td>\n",
              "      <td>80.2200</td>\n",
              "      <td>3/8/2019</td>\n",
              "      <td>10:29</td>\n",
              "      <td>Cash</td>\n",
              "      <td>76.40</td>\n",
              "      <td>4.761905</td>\n",
              "      <td>3.8200</td>\n",
              "      <td>9.6</td>\n",
              "    </tr>\n",
              "    <tr>\n",
              "      <th>2</th>\n",
              "      <td>631-41-3108</td>\n",
              "      <td>A</td>\n",
              "      <td>Normal</td>\n",
              "      <td>Male</td>\n",
              "      <td>Home and lifestyle</td>\n",
              "      <td>46.33</td>\n",
              "      <td>7</td>\n",
              "      <td>16.2155</td>\n",
              "      <td>340.5255</td>\n",
              "      <td>3/3/2019</td>\n",
              "      <td>13:23</td>\n",
              "      <td>Debit card</td>\n",
              "      <td>324.31</td>\n",
              "      <td>4.761905</td>\n",
              "      <td>16.2155</td>\n",
              "      <td>7.4</td>\n",
              "    </tr>\n",
              "    <tr>\n",
              "      <th>3</th>\n",
              "      <td>123-19-1176</td>\n",
              "      <td>A</td>\n",
              "      <td>Member</td>\n",
              "      <td>Male</td>\n",
              "      <td>Health and beauty</td>\n",
              "      <td>58.22</td>\n",
              "      <td>8</td>\n",
              "      <td>23.2880</td>\n",
              "      <td>489.0480</td>\n",
              "      <td>1/27/2019</td>\n",
              "      <td>20:33</td>\n",
              "      <td>Mobile Money</td>\n",
              "      <td>465.76</td>\n",
              "      <td>4.761905</td>\n",
              "      <td>23.2880</td>\n",
              "      <td>8.4</td>\n",
              "    </tr>\n",
              "    <tr>\n",
              "      <th>4</th>\n",
              "      <td>373-73-7910</td>\n",
              "      <td>A</td>\n",
              "      <td>Normal</td>\n",
              "      <td>Male</td>\n",
              "      <td>Sports and travel</td>\n",
              "      <td>86.31</td>\n",
              "      <td>7</td>\n",
              "      <td>30.2085</td>\n",
              "      <td>634.3785</td>\n",
              "      <td>2/8/2019</td>\n",
              "      <td>10:37</td>\n",
              "      <td>Mobile Money</td>\n",
              "      <td>604.17</td>\n",
              "      <td>4.761905</td>\n",
              "      <td>30.2085</td>\n",
              "      <td>5.3</td>\n",
              "    </tr>\n",
              "  </tbody>\n",
              "</table>\n",
              "</div>"
            ],
            "text/plain": [
              "    invoice_id branch  ... gross_income rating\n",
              "0  750-67-8428      A  ...      26.1415    9.1\n",
              "1  226-31-3081      C  ...       3.8200    9.6\n",
              "2  631-41-3108      A  ...      16.2155    7.4\n",
              "3  123-19-1176      A  ...      23.2880    8.4\n",
              "4  373-73-7910      A  ...      30.2085    5.3\n",
              "\n",
              "[5 rows x 16 columns]"
            ]
          },
          "metadata": {
            "tags": []
          },
          "execution_count": 6
        }
      ]
    },
    {
      "cell_type": "code",
      "metadata": {
        "id": "zl0_8A9we6Lh",
        "outputId": "897b075d-139b-4c1d-eeab-cdae9f3bca83",
        "colab": {
          "base_uri": "https://localhost:8080/",
          "height": 309
        }
      },
      "source": [
        "# preview the last 5 records\n",
        "sales_df.tail(5)"
      ],
      "execution_count": null,
      "outputs": [
        {
          "output_type": "execute_result",
          "data": {
            "text/html": [
              "<div>\n",
              "<style scoped>\n",
              "    .dataframe tbody tr th:only-of-type {\n",
              "        vertical-align: middle;\n",
              "    }\n",
              "\n",
              "    .dataframe tbody tr th {\n",
              "        vertical-align: top;\n",
              "    }\n",
              "\n",
              "    .dataframe thead th {\n",
              "        text-align: right;\n",
              "    }\n",
              "</style>\n",
              "<table border=\"1\" class=\"dataframe\">\n",
              "  <thead>\n",
              "    <tr style=\"text-align: right;\">\n",
              "      <th></th>\n",
              "      <th>invoice_id</th>\n",
              "      <th>branch</th>\n",
              "      <th>customer_type</th>\n",
              "      <th>gender</th>\n",
              "      <th>product_line</th>\n",
              "      <th>unit_price</th>\n",
              "      <th>quantity</th>\n",
              "      <th>tax_5_perc</th>\n",
              "      <th>total</th>\n",
              "      <th>date</th>\n",
              "      <th>time</th>\n",
              "      <th>payment</th>\n",
              "      <th>cost_of_goods_sold</th>\n",
              "      <th>gross_margin_percentage</th>\n",
              "      <th>gross_income</th>\n",
              "      <th>rating</th>\n",
              "    </tr>\n",
              "  </thead>\n",
              "  <tbody>\n",
              "    <tr>\n",
              "      <th>995</th>\n",
              "      <td>233-67-5758</td>\n",
              "      <td>C</td>\n",
              "      <td>Normal</td>\n",
              "      <td>Male</td>\n",
              "      <td>Health and beauty</td>\n",
              "      <td>40.35</td>\n",
              "      <td>1</td>\n",
              "      <td>2.0175</td>\n",
              "      <td>42.3675</td>\n",
              "      <td>1/29/2019</td>\n",
              "      <td>13:46</td>\n",
              "      <td>Mobile Money</td>\n",
              "      <td>40.35</td>\n",
              "      <td>4.761905</td>\n",
              "      <td>2.0175</td>\n",
              "      <td>6.2</td>\n",
              "    </tr>\n",
              "    <tr>\n",
              "      <th>996</th>\n",
              "      <td>303-96-2227</td>\n",
              "      <td>B</td>\n",
              "      <td>Normal</td>\n",
              "      <td>Female</td>\n",
              "      <td>Home and lifestyle</td>\n",
              "      <td>97.38</td>\n",
              "      <td>10</td>\n",
              "      <td>48.6900</td>\n",
              "      <td>1022.4900</td>\n",
              "      <td>3/2/2019</td>\n",
              "      <td>17:16</td>\n",
              "      <td>Mobile Money</td>\n",
              "      <td>973.80</td>\n",
              "      <td>4.761905</td>\n",
              "      <td>48.6900</td>\n",
              "      <td>4.4</td>\n",
              "    </tr>\n",
              "    <tr>\n",
              "      <th>997</th>\n",
              "      <td>727-02-1313</td>\n",
              "      <td>A</td>\n",
              "      <td>Member</td>\n",
              "      <td>Male</td>\n",
              "      <td>Food and beverages</td>\n",
              "      <td>31.84</td>\n",
              "      <td>1</td>\n",
              "      <td>1.5920</td>\n",
              "      <td>33.4320</td>\n",
              "      <td>2/9/2019</td>\n",
              "      <td>13:22</td>\n",
              "      <td>Cash</td>\n",
              "      <td>31.84</td>\n",
              "      <td>4.761905</td>\n",
              "      <td>1.5920</td>\n",
              "      <td>7.7</td>\n",
              "    </tr>\n",
              "    <tr>\n",
              "      <th>998</th>\n",
              "      <td>347-56-2442</td>\n",
              "      <td>A</td>\n",
              "      <td>Normal</td>\n",
              "      <td>Male</td>\n",
              "      <td>Home and lifestyle</td>\n",
              "      <td>65.82</td>\n",
              "      <td>1</td>\n",
              "      <td>3.2910</td>\n",
              "      <td>69.1110</td>\n",
              "      <td>2/22/2019</td>\n",
              "      <td>15:33</td>\n",
              "      <td>Cash</td>\n",
              "      <td>65.82</td>\n",
              "      <td>4.761905</td>\n",
              "      <td>3.2910</td>\n",
              "      <td>4.1</td>\n",
              "    </tr>\n",
              "    <tr>\n",
              "      <th>999</th>\n",
              "      <td>849-09-3807</td>\n",
              "      <td>A</td>\n",
              "      <td>Member</td>\n",
              "      <td>Female</td>\n",
              "      <td>Fashion accessories</td>\n",
              "      <td>88.34</td>\n",
              "      <td>7</td>\n",
              "      <td>30.9190</td>\n",
              "      <td>649.2990</td>\n",
              "      <td>2/18/2019</td>\n",
              "      <td>13:28</td>\n",
              "      <td>Cash</td>\n",
              "      <td>618.38</td>\n",
              "      <td>4.761905</td>\n",
              "      <td>30.9190</td>\n",
              "      <td>6.6</td>\n",
              "    </tr>\n",
              "  </tbody>\n",
              "</table>\n",
              "</div>"
            ],
            "text/plain": [
              "      invoice_id branch  ... gross_income rating\n",
              "995  233-67-5758      C  ...       2.0175    6.2\n",
              "996  303-96-2227      B  ...      48.6900    4.4\n",
              "997  727-02-1313      A  ...       1.5920    7.7\n",
              "998  347-56-2442      A  ...       3.2910    4.1\n",
              "999  849-09-3807      A  ...      30.9190    6.6\n",
              "\n",
              "[5 rows x 16 columns]"
            ]
          },
          "metadata": {
            "tags": []
          },
          "execution_count": 7
        }
      ]
    },
    {
      "cell_type": "code",
      "metadata": {
        "id": "y_iRdY_Xe6Lo",
        "outputId": "11bfb2e8-8282-420e-f621-e557acb2fa57",
        "colab": {
          "base_uri": "https://localhost:8080/",
          "height": 34
        }
      },
      "source": [
        "# get the shape (number of rows and columns) of your dataset\n",
        "sales_df.shape"
      ],
      "execution_count": null,
      "outputs": [
        {
          "output_type": "execute_result",
          "data": {
            "text/plain": [
              "(1000, 16)"
            ]
          },
          "metadata": {
            "tags": []
          },
          "execution_count": 8
        }
      ]
    },
    {
      "cell_type": "markdown",
      "metadata": {
        "id": "R-YnUg24e6Lx"
      },
      "source": [
        "How many records (rows) and features/variables (columns) does your dataset have?"
      ]
    },
    {
      "cell_type": "markdown",
      "metadata": {
        "id": "5tJ4He7zNArC"
      },
      "source": [
        "The dataset has 1000 rows and 16 columns"
      ]
    },
    {
      "cell_type": "code",
      "metadata": {
        "id": "gtdXIoNwe6L0",
        "outputId": "44615c8d-a6b3-474c-98d1-652e2b00b0af",
        "colab": {
          "base_uri": "https://localhost:8080/",
          "height": 102
        }
      },
      "source": [
        "# preview all the columns\n",
        "sales_df.columns"
      ],
      "execution_count": null,
      "outputs": [
        {
          "output_type": "execute_result",
          "data": {
            "text/plain": [
              "Index(['invoice_id', 'branch', 'customer_type', 'gender', 'product_line',\n",
              "       'unit_price', 'quantity', 'tax_5_perc', 'total', 'date', 'time',\n",
              "       'payment', 'cost_of_goods_sold', 'gross_margin_percentage',\n",
              "       'gross_income', 'rating'],\n",
              "      dtype='object')"
            ]
          },
          "metadata": {
            "tags": []
          },
          "execution_count": 9
        }
      ]
    },
    {
      "cell_type": "code",
      "metadata": {
        "id": "ezJwQRwIe6L-",
        "outputId": "091a5caf-bd91-4aea-f6a6-0170b8de7722",
        "colab": {
          "base_uri": "https://localhost:8080/",
          "height": 306
        }
      },
      "source": [
        "# previewing the data types of the features/variables/columns\n",
        "sales_df.dtypes"
      ],
      "execution_count": null,
      "outputs": [
        {
          "output_type": "execute_result",
          "data": {
            "text/plain": [
              "invoice_id                  object\n",
              "branch                      object\n",
              "customer_type               object\n",
              "gender                      object\n",
              "product_line                object\n",
              "unit_price                 float64\n",
              "quantity                     int64\n",
              "tax_5_perc                 float64\n",
              "total                      float64\n",
              "date                        object\n",
              "time                        object\n",
              "payment                     object\n",
              "cost_of_goods_sold         float64\n",
              "gross_margin_percentage    float64\n",
              "gross_income               float64\n",
              "rating                     float64\n",
              "dtype: object"
            ]
          },
          "metadata": {
            "tags": []
          },
          "execution_count": 10
        }
      ]
    },
    {
      "cell_type": "markdown",
      "metadata": {
        "id": "b0WOjgYSe6MF"
      },
      "source": [
        "What are your observations on the data types?"
      ]
    },
    {
      "cell_type": "markdown",
      "metadata": {
        "id": "Qhyi9MG3Rtvg"
      },
      "source": [
        "Half of the features are of type of object. Date and time features are of type object which might end up being a problem incase we need to use them."
      ]
    },
    {
      "cell_type": "code",
      "metadata": {
        "id": "W9-fHdkme6MG",
        "outputId": "1cc32533-6801-4c8b-ac1f-4e497b075370",
        "colab": {
          "base_uri": "https://localhost:8080/",
          "height": 34
        }
      },
      "source": [
        "# looking for duplicated records\n",
        "sales_df.duplicated().any()"
      ],
      "execution_count": null,
      "outputs": [
        {
          "output_type": "execute_result",
          "data": {
            "text/plain": [
              "False"
            ]
          },
          "metadata": {
            "tags": []
          },
          "execution_count": 11
        }
      ]
    },
    {
      "cell_type": "markdown",
      "metadata": {
        "id": "YS8C1J10e6MK"
      },
      "source": [
        "Are there any duplicated records in your dataset?"
      ]
    },
    {
      "cell_type": "markdown",
      "metadata": {
        "id": "F08etxiMS9_r"
      },
      "source": [
        "All the records in the dataset are unique"
      ]
    },
    {
      "cell_type": "code",
      "metadata": {
        "id": "TXa4xgiTe6ML",
        "outputId": "b67a21b9-ae9d-4709-9589-0c63c08b0120",
        "colab": {
          "base_uri": "https://localhost:8080/",
          "height": 306
        }
      },
      "source": [
        "# looking for missing values\n",
        "sales_df.isna().sum()"
      ],
      "execution_count": null,
      "outputs": [
        {
          "output_type": "execute_result",
          "data": {
            "text/plain": [
              "invoice_id                 0\n",
              "branch                     0\n",
              "customer_type              0\n",
              "gender                     0\n",
              "product_line               0\n",
              "unit_price                 0\n",
              "quantity                   0\n",
              "tax_5_perc                 0\n",
              "total                      0\n",
              "date                       0\n",
              "time                       0\n",
              "payment                    0\n",
              "cost_of_goods_sold         0\n",
              "gross_margin_percentage    0\n",
              "gross_income               0\n",
              "rating                     0\n",
              "dtype: int64"
            ]
          },
          "metadata": {
            "tags": []
          },
          "execution_count": 12
        }
      ]
    },
    {
      "cell_type": "markdown",
      "metadata": {
        "id": "gnQhpefOe6MQ"
      },
      "source": [
        "Are there any missing values in your dataset?"
      ]
    },
    {
      "cell_type": "markdown",
      "metadata": {
        "id": "YzfIT9nLTNqZ"
      },
      "source": [
        "No missing values in the dataset"
      ]
    },
    {
      "cell_type": "markdown",
      "metadata": {
        "id": "W7IkiF1He6MR"
      },
      "source": [
        "## 4. Descriptive Data Analysis"
      ]
    },
    {
      "cell_type": "markdown",
      "metadata": {
        "id": "yw5JIuZ5e6MR"
      },
      "source": [
        "Data Analysis can be divided into two:\n",
        "- **Univariate Analysis** - where you look at a single variable\n",
        "- **Bivariate Analysis** - where you look at how two variables relate with each other\n",
        "\n",
        "Before we do the analysis, it is helpful to formulate questions that would help us answer the research problem.\n",
        "\n",
        "**Research Question:** You will be required to perform data analysis and provide recommendations based on insights gathered from the performance of the supermarket in the previous quarter.\n",
        "\n",
        "**Examples of Guiding Questions:**\n",
        "- Which branch has the most number of customers and which branch has the least?\n",
        "- Which is the most common customer type and which is the least?\n",
        "- Which gender makes up the majority in this dataset?\n",
        "- Which is the most common and the least common product line?\n",
        "- Which is the most common method of payment?\n",
        "- What is the average gross income per branch?\n",
        "- What is the average gross income per branch and per product line?\n",
        "- What is the average rating per branch?\n",
        "\n",
        "Note that these are only a few examples of the questions you can come up with to help you answer the research question. You can come up with more as you see fit."
      ]
    },
    {
      "cell_type": "markdown",
      "metadata": {
        "id": "BqVSeYpde6MS"
      },
      "source": [
        "### 4.1 Univariate Analysis"
      ]
    },
    {
      "cell_type": "code",
      "metadata": {
        "id": "r4vhyiF-e6MT",
        "outputId": "3e2763ac-fc6a-4552-8025-b946d44947ca",
        "colab": {
          "base_uri": "https://localhost:8080/",
          "height": 297
        }
      },
      "source": [
        "# get the summary statistics (descriptive statistics) of the numerical varables\n",
        "sales_df.describe()"
      ],
      "execution_count": null,
      "outputs": [
        {
          "output_type": "execute_result",
          "data": {
            "text/html": [
              "<div>\n",
              "<style scoped>\n",
              "    .dataframe tbody tr th:only-of-type {\n",
              "        vertical-align: middle;\n",
              "    }\n",
              "\n",
              "    .dataframe tbody tr th {\n",
              "        vertical-align: top;\n",
              "    }\n",
              "\n",
              "    .dataframe thead th {\n",
              "        text-align: right;\n",
              "    }\n",
              "</style>\n",
              "<table border=\"1\" class=\"dataframe\">\n",
              "  <thead>\n",
              "    <tr style=\"text-align: right;\">\n",
              "      <th></th>\n",
              "      <th>unit_price</th>\n",
              "      <th>quantity</th>\n",
              "      <th>tax_5_perc</th>\n",
              "      <th>total</th>\n",
              "      <th>cost_of_goods_sold</th>\n",
              "      <th>gross_margin_percentage</th>\n",
              "      <th>gross_income</th>\n",
              "      <th>rating</th>\n",
              "    </tr>\n",
              "  </thead>\n",
              "  <tbody>\n",
              "    <tr>\n",
              "      <th>count</th>\n",
              "      <td>1000.000000</td>\n",
              "      <td>1000.000000</td>\n",
              "      <td>1000.000000</td>\n",
              "      <td>1000.000000</td>\n",
              "      <td>1000.00000</td>\n",
              "      <td>1.000000e+03</td>\n",
              "      <td>1000.000000</td>\n",
              "      <td>1000.00000</td>\n",
              "    </tr>\n",
              "    <tr>\n",
              "      <th>mean</th>\n",
              "      <td>55.672130</td>\n",
              "      <td>5.510000</td>\n",
              "      <td>15.379369</td>\n",
              "      <td>322.966749</td>\n",
              "      <td>307.58738</td>\n",
              "      <td>4.761905e+00</td>\n",
              "      <td>15.379369</td>\n",
              "      <td>6.97270</td>\n",
              "    </tr>\n",
              "    <tr>\n",
              "      <th>std</th>\n",
              "      <td>26.494628</td>\n",
              "      <td>2.923431</td>\n",
              "      <td>11.708825</td>\n",
              "      <td>245.885335</td>\n",
              "      <td>234.17651</td>\n",
              "      <td>6.220360e-14</td>\n",
              "      <td>11.708825</td>\n",
              "      <td>1.71858</td>\n",
              "    </tr>\n",
              "    <tr>\n",
              "      <th>min</th>\n",
              "      <td>10.080000</td>\n",
              "      <td>1.000000</td>\n",
              "      <td>0.508500</td>\n",
              "      <td>10.678500</td>\n",
              "      <td>10.17000</td>\n",
              "      <td>4.761905e+00</td>\n",
              "      <td>0.508500</td>\n",
              "      <td>4.00000</td>\n",
              "    </tr>\n",
              "    <tr>\n",
              "      <th>25%</th>\n",
              "      <td>32.875000</td>\n",
              "      <td>3.000000</td>\n",
              "      <td>5.924875</td>\n",
              "      <td>124.422375</td>\n",
              "      <td>118.49750</td>\n",
              "      <td>4.761905e+00</td>\n",
              "      <td>5.924875</td>\n",
              "      <td>5.50000</td>\n",
              "    </tr>\n",
              "    <tr>\n",
              "      <th>50%</th>\n",
              "      <td>55.230000</td>\n",
              "      <td>5.000000</td>\n",
              "      <td>12.088000</td>\n",
              "      <td>253.848000</td>\n",
              "      <td>241.76000</td>\n",
              "      <td>4.761905e+00</td>\n",
              "      <td>12.088000</td>\n",
              "      <td>7.00000</td>\n",
              "    </tr>\n",
              "    <tr>\n",
              "      <th>75%</th>\n",
              "      <td>77.935000</td>\n",
              "      <td>8.000000</td>\n",
              "      <td>22.445250</td>\n",
              "      <td>471.350250</td>\n",
              "      <td>448.90500</td>\n",
              "      <td>4.761905e+00</td>\n",
              "      <td>22.445250</td>\n",
              "      <td>8.50000</td>\n",
              "    </tr>\n",
              "    <tr>\n",
              "      <th>max</th>\n",
              "      <td>99.960000</td>\n",
              "      <td>10.000000</td>\n",
              "      <td>49.650000</td>\n",
              "      <td>1042.650000</td>\n",
              "      <td>993.00000</td>\n",
              "      <td>4.761905e+00</td>\n",
              "      <td>49.650000</td>\n",
              "      <td>10.00000</td>\n",
              "    </tr>\n",
              "  </tbody>\n",
              "</table>\n",
              "</div>"
            ],
            "text/plain": [
              "        unit_price     quantity  ...  gross_income      rating\n",
              "count  1000.000000  1000.000000  ...   1000.000000  1000.00000\n",
              "mean     55.672130     5.510000  ...     15.379369     6.97270\n",
              "std      26.494628     2.923431  ...     11.708825     1.71858\n",
              "min      10.080000     1.000000  ...      0.508500     4.00000\n",
              "25%      32.875000     3.000000  ...      5.924875     5.50000\n",
              "50%      55.230000     5.000000  ...     12.088000     7.00000\n",
              "75%      77.935000     8.000000  ...     22.445250     8.50000\n",
              "max      99.960000    10.000000  ...     49.650000    10.00000\n",
              "\n",
              "[8 rows x 8 columns]"
            ]
          },
          "metadata": {
            "tags": []
          },
          "execution_count": 14
        }
      ]
    },
    {
      "cell_type": "markdown",
      "metadata": {
        "id": "HZgm9OTme6MX"
      },
      "source": [
        "The summary statistics provide important information about the numerical variables such as their means, standard deviations, and so on."
      ]
    },
    {
      "cell_type": "code",
      "metadata": {
        "id": "T0V5YOh_e6MY",
        "outputId": "599a684d-955f-4d3a-bb31-c415607c90a9",
        "colab": {
          "base_uri": "https://localhost:8080/",
          "height": 295
        }
      },
      "source": [
        "# create a bar plot of the 'branch' variable\n",
        "plt.figure(figsize = (8, 4))\n",
        "sales_df.branch.value_counts().plot(kind = 'bar', rot = 0, color = ['red', 'green', 'blue'])\n",
        "plt.xlabel('Branch')\n",
        "plt.title('Distribution of Branches')\n",
        "plt.show()"
      ],
      "execution_count": null,
      "outputs": [
        {
          "output_type": "display_data",
          "data": {
            "image/png": "[encoded data removed]",
            "text/plain": [
              "<Figure size 576x288 with 1 Axes>"
            ]
          },
          "metadata": {
            "tags": [],
            "needs_background": "light"
          }
        }
      ]
    },
    {
      "cell_type": "code",
      "metadata": {
        "id": "rNfs0GLlboq5",
        "outputId": "de28b7a2-8a15-4449-faab-0f5cd53aabae",
        "colab": {
          "base_uri": "https://localhost:8080/",
          "height": 85
        }
      },
      "source": [
        "sales_df.branch.value_counts()"
      ],
      "execution_count": null,
      "outputs": [
        {
          "output_type": "execute_result",
          "data": {
            "text/plain": [
              "A    340\n",
              "B    332\n",
              "C    328\n",
              "Name: branch, dtype: int64"
            ]
          },
          "metadata": {
            "tags": []
          },
          "execution_count": 18
        }
      ]
    },
    {
      "cell_type": "markdown",
      "metadata": {
        "id": "RVm2fPvZaA59"
      },
      "source": [
        "The three branches seemed to make around the same amount of sales in that quarter. There is no much variation in terms of sales\n"
      ]
    },
    {
      "cell_type": "markdown",
      "metadata": {
        "id": "6IfYAUdKe6Me"
      },
      "source": [
        "Note your observations."
      ]
    },
    {
      "cell_type": "code",
      "metadata": {
        "id": "ZZfN0Ib8e6Mf",
        "outputId": "d55ce88b-1e9e-44e9-a0e9-dfbb584ef56c",
        "colab": {
          "base_uri": "https://localhost:8080/",
          "height": 404
        }
      },
      "source": [
        "# create a bar plot of the 'customer_type' variable\n",
        "plt.figure(figsize = (8, 6))\n",
        "sales_df.customer_type.value_counts().plot(kind = 'bar', rot = 0)\n",
        "plt.xlabel('Customer Type')\n",
        "plt.title('Distribution of Customer Type')\n",
        "plt.show()"
      ],
      "execution_count": null,
      "outputs": [
        {
          "output_type": "display_data",
          "data": {
            "image/png": "[encoded data removed]",
            "text/plain": [
              "<Figure size 576x432 with 1 Axes>"
            ]
          },
          "metadata": {
            "tags": [],
            "needs_background": "light"
          }
        }
      ]
    },
    {
      "cell_type": "code",
      "metadata": {
        "id": "DU2d36mLe6Mx",
        "outputId": "a20c9119-048d-4db8-9e19-c77e672bd9a2",
        "colab": {
          "base_uri": "https://localhost:8080/",
          "height": 68
        }
      },
      "source": [
        "# get the value counts of the 'customer_type' variable\n",
        "sales_df.customer_type.value_counts()"
      ],
      "execution_count": null,
      "outputs": [
        {
          "output_type": "execute_result",
          "data": {
            "text/plain": [
              "Member    501\n",
              "Normal    499\n",
              "Name: customer_type, dtype: int64"
            ]
          },
          "metadata": {
            "tags": []
          },
          "execution_count": 17
        }
      ]
    },
    {
      "cell_type": "markdown",
      "metadata": {
        "id": "vED_xBdGbFTh"
      },
      "source": [
        "There is no much variation in terms of customer_type. The supermarket served almost the same number of member customers as normal customers."
      ]
    },
    {
      "cell_type": "markdown",
      "metadata": {
        "id": "fWpI2zhve6M2"
      },
      "source": [
        "Note your observations."
      ]
    },
    {
      "cell_type": "code",
      "metadata": {
        "id": "92BWAITXe6M3",
        "outputId": "3dd7308e-1ecd-439f-bb9c-376d45333390",
        "colab": {
          "base_uri": "https://localhost:8080/",
          "height": 68
        }
      },
      "source": [
        "# get the value counts of the 'gender' variable\n",
        "sales_df.gender.value_counts()"
      ],
      "execution_count": null,
      "outputs": [
        {
          "output_type": "execute_result",
          "data": {
            "text/plain": [
              "Female    501\n",
              "Male      499\n",
              "Name: gender, dtype: int64"
            ]
          },
          "metadata": {
            "tags": []
          },
          "execution_count": 19
        }
      ]
    },
    {
      "cell_type": "markdown",
      "metadata": {
        "id": "4ZV54zoae6M_"
      },
      "source": [
        "Note your observations."
      ]
    },
    {
      "cell_type": "code",
      "metadata": {
        "id": "-eT3ZyT9e6M_",
        "outputId": "3f40d527-fcd0-4933-a9ca-fb343c27f0a0",
        "colab": {
          "base_uri": "https://localhost:8080/",
          "height": 324
        }
      },
      "source": [
        "# create a bar plot of the 'product_line' variable\n",
        "plt.figure(figsize = (8, 4))\n",
        "sales_df.product_line.value_counts().plot(kind = 'bar', rot = 15, \n",
        "                                    color = sns.color_palette('rocket', sales_df.product_line.nunique()))\n",
        "plt.xlabel('Product Line')\n",
        "plt.title('Distribution of Product Line')\n",
        "plt.xticks(ha = 'right')\n",
        "plt.show()"
      ],
      "execution_count": null,
      "outputs": [
        {
          "output_type": "display_data",
          "data": {
            "image/png": "[encoded data removed]",
            "text/plain": [
              "<Figure size 576x288 with 1 Axes>"
            ]
          },
          "metadata": {
            "tags": [],
            "needs_background": "light"
          }
        }
      ]
    },
    {
      "cell_type": "markdown",
      "metadata": {
        "id": "yZzmFT9Je6NF"
      },
      "source": [
        "Note your observations."
      ]
    },
    {
      "cell_type": "markdown",
      "metadata": {
        "id": "d2u-0bBVzAqM"
      },
      "source": [
        "The most popular product_line is fashion accessories and the least popular being health and beauty products. Though there is no much variation in the product sales.\n"
      ]
    },
    {
      "cell_type": "code",
      "metadata": {
        "id": "3pXhfdHNe6NG",
        "outputId": "f5250678-31b2-4656-b8d7-6daae2376e4f",
        "colab": {
          "base_uri": "https://localhost:8080/",
          "height": 373
        }
      },
      "source": [
        "# create a pie chart of the 'payment' variable\n",
        "plt.figure(figsize = (8, 6))\n",
        "sales_df.payment.value_counts().plot(kind = 'pie', autopct = '%1.1f%%')\n",
        "plt.title('Distribution of Method of Payment')\n",
        "plt.show()"
      ],
      "execution_count": null,
      "outputs": [
        {
          "output_type": "display_data",
          "data": {
            "image/png": "[encoded data removed]",
            "text/plain": [
              "<Figure size 576x432 with 1 Axes>"
            ]
          },
          "metadata": {
            "tags": []
          }
        }
      ]
    },
    {
      "cell_type": "markdown",
      "metadata": {
        "id": "uagI6vW3e6NL"
      },
      "source": [
        "Note your observations."
      ]
    },
    {
      "cell_type": "markdown",
      "metadata": {
        "id": "oIJPXtQi0O4v"
      },
      "source": [
        "Most customers paid via mobile money which did not vary much from the fewer who paid via debit card"
      ]
    },
    {
      "cell_type": "code",
      "metadata": {
        "id": "otMKoeFq2NZS",
        "outputId": "40a13bdb-1eb4-43ba-e8a2-5508856d77c1",
        "colab": {
          "base_uri": "https://localhost:8080/",
          "height": 404
        }
      },
      "source": [
        "# create a bar plot of the 'quantity' variable\n",
        "plt.figure(figsize = (8, 6))\n",
        "sales_df.quantity.value_counts().plot(kind = 'bar', rot = 0)\n",
        "plt.xlabel('Quantity')\n",
        "plt.title('Distribution of Quantities')\n",
        "plt.show()"
      ],
      "execution_count": null,
      "outputs": [
        {
          "output_type": "display_data",
          "data": {
            "image/png": "[encoded data removed]",
            "text/plain": [
              "<Figure size 576x432 with 1 Axes>"
            ]
          },
          "metadata": {
            "tags": [],
            "needs_background": "light"
          }
        }
      ]
    },
    {
      "cell_type": "code",
      "metadata": {
        "id": "SCFJ1Z3B2pjD",
        "outputId": "184ae926-d396-4fb3-9efa-448ad4b69f9a",
        "colab": {
          "base_uri": "https://localhost:8080/",
          "height": 204
        }
      },
      "source": [
        "# get the value counts of the 'quantity' variable\n",
        "sales_df.quantity.value_counts()"
      ],
      "execution_count": null,
      "outputs": [
        {
          "output_type": "execute_result",
          "data": {
            "text/plain": [
              "10    119\n",
              "1     112\n",
              "4     109\n",
              "7     102\n",
              "5     102\n",
              "6      98\n",
              "9      92\n",
              "2      91\n",
              "3      90\n",
              "8      85\n",
              "Name: quantity, dtype: int64"
            ]
          },
          "metadata": {
            "tags": []
          },
          "execution_count": 24
        }
      ]
    },
    {
      "cell_type": "markdown",
      "metadata": {
        "id": "lSmRqBcee6NL"
      },
      "source": [
        "### 4.2 Bivariate Analysis"
      ]
    },
    {
      "cell_type": "code",
      "metadata": {
        "id": "KbEPst3yB8De"
      },
      "source": [
        "corr = sales_df.corr()\n"
      ],
      "execution_count": null,
      "outputs": []
    },
    {
      "cell_type": "code",
      "metadata": {
        "id": "SE9KauUHe6NM",
        "outputId": "f428de10-ec62-4bc6-bfc2-0c7b66007f1c",
        "colab": {
          "base_uri": "https://localhost:8080/",
          "height": 731
        }
      },
      "source": [
        "# create a heatmap of the correlations of the variables in the dataset\n",
        "# Let's set the size of our visualisation\n",
        "fig, ax = plt.subplots(figsize = (10, 10))\n",
        "\n",
        "# Let's generate a color map to use for our visualisation\n",
        "colormap = sns.diverging_palette(220, 10, as_cmap = True)\n",
        "\n",
        "# Generate heat map, allow annotations and place floats in map\n",
        "sns.heatmap(corr, cmap = colormap, annot = True, fmt = \".2f\")"
      ],
      "execution_count": null,
      "outputs": [
        {
          "output_type": "execute_result",
          "data": {
            "text/plain": [
              "<matplotlib.axes._subplots.AxesSubplot at 0x7f60e86ed278>"
            ]
          },
          "metadata": {
            "tags": []
          },
          "execution_count": 31
        },
        {
          "output_type": "display_data",
          "data": {
            "image/png": "[encoded data removed]",
            "text/plain": [
              "<Figure size 720x720 with 2 Axes>"
            ]
          },
          "metadata": {
            "tags": [],
            "needs_background": "light"
          }
        }
      ]
    },
    {
      "cell_type": "markdown",
      "metadata": {
        "id": "Y4tdXTQ-e6NP"
      },
      "source": [
        "Note your observations."
      ]
    },
    {
      "cell_type": "markdown",
      "metadata": {
        "id": "VQ7ZQCOF4PtU"
      },
      "source": [
        "There is a strong positive correlation between quantity and gross income"
      ]
    },
    {
      "cell_type": "code",
      "metadata": {
        "id": "NQr6kDQZe6NQ",
        "outputId": "f8abf1ee-c77f-4825-ee58-bfd84f9d215d",
        "colab": {
          "base_uri": "https://localhost:8080/",
          "height": 173
        }
      },
      "source": [
        "# create a pivot table to find the mean of gross income per branch\n",
        "pd.pivot_table(sales_df, index=['branch'], aggfunc={'gross_income': np.mean})"
      ],
      "execution_count": 34,
      "outputs": [
        {
          "output_type": "execute_result",
          "data": {
            "text/html": [
              "<div>\n",
              "<style scoped>\n",
              "    .dataframe tbody tr th:only-of-type {\n",
              "        vertical-align: middle;\n",
              "    }\n",
              "\n",
              "    .dataframe tbody tr th {\n",
              "        vertical-align: top;\n",
              "    }\n",
              "\n",
              "    .dataframe thead th {\n",
              "        text-align: right;\n",
              "    }\n",
              "</style>\n",
              "<table border=\"1\" class=\"dataframe\">\n",
              "  <thead>\n",
              "    <tr style=\"text-align: right;\">\n",
              "      <th></th>\n",
              "      <th>gross_income</th>\n",
              "    </tr>\n",
              "    <tr>\n",
              "      <th>branch</th>\n",
              "      <th></th>\n",
              "    </tr>\n",
              "  </thead>\n",
              "  <tbody>\n",
              "    <tr>\n",
              "      <th>A</th>\n",
              "      <td>14.874001</td>\n",
              "    </tr>\n",
              "    <tr>\n",
              "      <th>B</th>\n",
              "      <td>15.232024</td>\n",
              "    </tr>\n",
              "    <tr>\n",
              "      <th>C</th>\n",
              "      <td>16.052367</td>\n",
              "    </tr>\n",
              "  </tbody>\n",
              "</table>\n",
              "</div>"
            ],
            "text/plain": [
              "        gross_income\n",
              "branch              \n",
              "A          14.874001\n",
              "B          15.232024\n",
              "C          16.052367"
            ]
          },
          "metadata": {
            "tags": []
          },
          "execution_count": 34
        }
      ]
    },
    {
      "cell_type": "markdown",
      "metadata": {
        "id": "rkdkNQNVe6NU"
      },
      "source": [
        "Note your observations."
      ]
    },
    {
      "cell_type": "markdown",
      "metadata": {
        "id": "rmeFg5wykiNo"
      },
      "source": [
        "Branch C has the highest mean gross_income of the three branches"
      ]
    },
    {
      "cell_type": "code",
      "metadata": {
        "id": "r-0bM2G6e6NU",
        "outputId": "35c8d791-7f8e-41b6-b2dd-a4ff0fff9657",
        "colab": {
          "base_uri": "https://localhost:8080/",
          "height": 266
        }
      },
      "source": [
        "# create a pivot table to find the average gross income per product line\n",
        "pd.pivot_table(sales_df, index=['product_line'], aggfunc={'gross_income': np.mean})"
      ],
      "execution_count": 35,
      "outputs": [
        {
          "output_type": "execute_result",
          "data": {
            "text/html": [
              "<div>\n",
              "<style scoped>\n",
              "    .dataframe tbody tr th:only-of-type {\n",
              "        vertical-align: middle;\n",
              "    }\n",
              "\n",
              "    .dataframe tbody tr th {\n",
              "        vertical-align: top;\n",
              "    }\n",
              "\n",
              "    .dataframe thead th {\n",
              "        text-align: right;\n",
              "    }\n",
              "</style>\n",
              "<table border=\"1\" class=\"dataframe\">\n",
              "  <thead>\n",
              "    <tr style=\"text-align: right;\">\n",
              "      <th></th>\n",
              "      <th>gross_income</th>\n",
              "    </tr>\n",
              "    <tr>\n",
              "      <th>product_line</th>\n",
              "      <th></th>\n",
              "    </tr>\n",
              "  </thead>\n",
              "  <tbody>\n",
              "    <tr>\n",
              "      <th>Electronic accessories</th>\n",
              "      <td>15.220597</td>\n",
              "    </tr>\n",
              "    <tr>\n",
              "      <th>Fashion accessories</th>\n",
              "      <td>14.528062</td>\n",
              "    </tr>\n",
              "    <tr>\n",
              "      <th>Food and beverages</th>\n",
              "      <td>15.365310</td>\n",
              "    </tr>\n",
              "    <tr>\n",
              "      <th>Health and beauty</th>\n",
              "      <td>15.411572</td>\n",
              "    </tr>\n",
              "    <tr>\n",
              "      <th>Home and lifestyle</th>\n",
              "      <td>16.030331</td>\n",
              "    </tr>\n",
              "    <tr>\n",
              "      <th>Sports and travel</th>\n",
              "      <td>15.812630</td>\n",
              "    </tr>\n",
              "  </tbody>\n",
              "</table>\n",
              "</div>"
            ],
            "text/plain": [
              "                        gross_income\n",
              "product_line                        \n",
              "Electronic accessories     15.220597\n",
              "Fashion accessories        14.528062\n",
              "Food and beverages         15.365310\n",
              "Health and beauty          15.411572\n",
              "Home and lifestyle         16.030331\n",
              "Sports and travel          15.812630"
            ]
          },
          "metadata": {
            "tags": []
          },
          "execution_count": 35
        }
      ]
    },
    {
      "cell_type": "markdown",
      "metadata": {
        "id": "2bPmDdiue6NY"
      },
      "source": [
        "Note your observations."
      ]
    },
    {
      "cell_type": "markdown",
      "metadata": {
        "id": "-OkZDpS1lYf_"
      },
      "source": [
        "Home and lifestyle product line recorded the highest average gross income while fashion accessories recorded the least during that quarter"
      ]
    },
    {
      "cell_type": "code",
      "metadata": {
        "id": "WzI1KFrUe6NY"
      },
      "source": [
        "# get the average gross income per product line for each branch and save to a dataframe\n",
        "branches = pd.pivot_table(sales_df, index=['branch', 'product_line'], aggfunc={'gross_income' : 'mean'})\n",
        "branches = branches.reset_index()\n",
        "\n",
        "# split the dataframe into three smaller dataframes based on branch\n",
        "branch_a = branches.loc[branches['branch'] == 'A']\n",
        "branch_b = branches.loc[branches['branch'] == 'B']\n",
        "branch_c = branches.loc[branches['branch'] == 'C']"
      ],
      "execution_count": 36,
      "outputs": []
    },
    {
      "cell_type": "code",
      "metadata": {
        "id": "dRaLg4Fne6Nc",
        "outputId": "9ea63d83-e18b-4895-c5bf-65e117ee79f0",
        "colab": {
          "base_uri": "https://localhost:8080/",
          "height": 235
        }
      },
      "source": [
        "# preview the average gross income per product line for Branch A\n",
        "branch_a"
      ],
      "execution_count": 37,
      "outputs": [
        {
          "output_type": "execute_result",
          "data": {
            "text/html": [
              "<div>\n",
              "<style scoped>\n",
              "    .dataframe tbody tr th:only-of-type {\n",
              "        vertical-align: middle;\n",
              "    }\n",
              "\n",
              "    .dataframe tbody tr th {\n",
              "        vertical-align: top;\n",
              "    }\n",
              "\n",
              "    .dataframe thead th {\n",
              "        text-align: right;\n",
              "    }\n",
              "</style>\n",
              "<table border=\"1\" class=\"dataframe\">\n",
              "  <thead>\n",
              "    <tr style=\"text-align: right;\">\n",
              "      <th></th>\n",
              "      <th>branch</th>\n",
              "      <th>product_line</th>\n",
              "      <th>gross_income</th>\n",
              "    </tr>\n",
              "  </thead>\n",
              "  <tbody>\n",
              "    <tr>\n",
              "      <th>0</th>\n",
              "      <td>A</td>\n",
              "      <td>Electronic accessories</td>\n",
              "      <td>14.537392</td>\n",
              "    </tr>\n",
              "    <tr>\n",
              "      <th>1</th>\n",
              "      <td>A</td>\n",
              "      <td>Fashion accessories</td>\n",
              "      <td>15.249775</td>\n",
              "    </tr>\n",
              "    <tr>\n",
              "      <th>2</th>\n",
              "      <td>A</td>\n",
              "      <td>Food and beverages</td>\n",
              "      <td>14.091216</td>\n",
              "    </tr>\n",
              "    <tr>\n",
              "      <th>3</th>\n",
              "      <td>A</td>\n",
              "      <td>Health and beauty</td>\n",
              "      <td>12.763681</td>\n",
              "    </tr>\n",
              "    <tr>\n",
              "      <th>4</th>\n",
              "      <td>A</td>\n",
              "      <td>Home and lifestyle</td>\n",
              "      <td>16.422854</td>\n",
              "    </tr>\n",
              "    <tr>\n",
              "      <th>5</th>\n",
              "      <td>A</td>\n",
              "      <td>Sports and travel</td>\n",
              "      <td>15.635754</td>\n",
              "    </tr>\n",
              "  </tbody>\n",
              "</table>\n",
              "</div>"
            ],
            "text/plain": [
              "  branch            product_line  gross_income\n",
              "0      A  Electronic accessories     14.537392\n",
              "1      A     Fashion accessories     15.249775\n",
              "2      A      Food and beverages     14.091216\n",
              "3      A       Health and beauty     12.763681\n",
              "4      A      Home and lifestyle     16.422854\n",
              "5      A       Sports and travel     15.635754"
            ]
          },
          "metadata": {
            "tags": []
          },
          "execution_count": 37
        }
      ]
    },
    {
      "cell_type": "code",
      "metadata": {
        "id": "OKgh-CiHe6Nh",
        "outputId": "c0de0dbb-715a-4d25-e4f1-8fdb0182f0e3",
        "colab": {
          "base_uri": "https://localhost:8080/",
          "height": 235
        }
      },
      "source": [
        "# preview the average gross income per product line for Branch B\n",
        "branch_b"
      ],
      "execution_count": 38,
      "outputs": [
        {
          "output_type": "execute_result",
          "data": {
            "text/html": [
              "<div>\n",
              "<style scoped>\n",
              "    .dataframe tbody tr th:only-of-type {\n",
              "        vertical-align: middle;\n",
              "    }\n",
              "\n",
              "    .dataframe tbody tr th {\n",
              "        vertical-align: top;\n",
              "    }\n",
              "\n",
              "    .dataframe thead th {\n",
              "        text-align: right;\n",
              "    }\n",
              "</style>\n",
              "<table border=\"1\" class=\"dataframe\">\n",
              "  <thead>\n",
              "    <tr style=\"text-align: right;\">\n",
              "      <th></th>\n",
              "      <th>branch</th>\n",
              "      <th>product_line</th>\n",
              "      <th>gross_income</th>\n",
              "    </tr>\n",
              "  </thead>\n",
              "  <tbody>\n",
              "    <tr>\n",
              "      <th>6</th>\n",
              "      <td>B</td>\n",
              "      <td>Electronic accessories</td>\n",
              "      <td>14.763155</td>\n",
              "    </tr>\n",
              "    <tr>\n",
              "      <th>7</th>\n",
              "      <td>B</td>\n",
              "      <td>Fashion accessories</td>\n",
              "      <td>12.606234</td>\n",
              "    </tr>\n",
              "    <tr>\n",
              "      <th>8</th>\n",
              "      <td>B</td>\n",
              "      <td>Food and beverages</td>\n",
              "      <td>14.490370</td>\n",
              "    </tr>\n",
              "    <tr>\n",
              "      <th>9</th>\n",
              "      <td>B</td>\n",
              "      <td>Health and beauty</td>\n",
              "      <td>17.952075</td>\n",
              "    </tr>\n",
              "    <tr>\n",
              "      <th>10</th>\n",
              "      <td>B</td>\n",
              "      <td>Home and lifestyle</td>\n",
              "      <td>16.713490</td>\n",
              "    </tr>\n",
              "    <tr>\n",
              "      <th>11</th>\n",
              "      <td>B</td>\n",
              "      <td>Sports and travel</td>\n",
              "      <td>15.351919</td>\n",
              "    </tr>\n",
              "  </tbody>\n",
              "</table>\n",
              "</div>"
            ],
            "text/plain": [
              "   branch            product_line  gross_income\n",
              "6       B  Electronic accessories     14.763155\n",
              "7       B     Fashion accessories     12.606234\n",
              "8       B      Food and beverages     14.490370\n",
              "9       B       Health and beauty     17.952075\n",
              "10      B      Home and lifestyle     16.713490\n",
              "11      B       Sports and travel     15.351919"
            ]
          },
          "metadata": {
            "tags": []
          },
          "execution_count": 38
        }
      ]
    },
    {
      "cell_type": "code",
      "metadata": {
        "id": "gWC6e_4xe6Nl",
        "outputId": "19d96a62-b0b4-4978-8657-50cf9cb6a37e",
        "colab": {
          "base_uri": "https://localhost:8080/",
          "height": 235
        }
      },
      "source": [
        "# preview the average gross income per product line for Branch C\n",
        "branch_c"
      ],
      "execution_count": 39,
      "outputs": [
        {
          "output_type": "execute_result",
          "data": {
            "text/html": [
              "<div>\n",
              "<style scoped>\n",
              "    .dataframe tbody tr th:only-of-type {\n",
              "        vertical-align: middle;\n",
              "    }\n",
              "\n",
              "    .dataframe tbody tr th {\n",
              "        vertical-align: top;\n",
              "    }\n",
              "\n",
              "    .dataframe thead th {\n",
              "        text-align: right;\n",
              "    }\n",
              "</style>\n",
              "<table border=\"1\" class=\"dataframe\">\n",
              "  <thead>\n",
              "    <tr style=\"text-align: right;\">\n",
              "      <th></th>\n",
              "      <th>branch</th>\n",
              "      <th>product_line</th>\n",
              "      <th>gross_income</th>\n",
              "    </tr>\n",
              "  </thead>\n",
              "  <tbody>\n",
              "    <tr>\n",
              "      <th>12</th>\n",
              "      <td>C</td>\n",
              "      <td>Electronic accessories</td>\n",
              "      <td>16.423355</td>\n",
              "    </tr>\n",
              "    <tr>\n",
              "      <th>13</th>\n",
              "      <td>C</td>\n",
              "      <td>Fashion accessories</td>\n",
              "      <td>15.794923</td>\n",
              "    </tr>\n",
              "    <tr>\n",
              "      <th>14</th>\n",
              "      <td>C</td>\n",
              "      <td>Food and beverages</td>\n",
              "      <td>17.147803</td>\n",
              "    </tr>\n",
              "    <tr>\n",
              "      <th>15</th>\n",
              "      <td>C</td>\n",
              "      <td>Health and beauty</td>\n",
              "      <td>15.215500</td>\n",
              "    </tr>\n",
              "    <tr>\n",
              "      <th>16</th>\n",
              "      <td>C</td>\n",
              "      <td>Home and lifestyle</td>\n",
              "      <td>14.704289</td>\n",
              "    </tr>\n",
              "    <tr>\n",
              "      <th>17</th>\n",
              "      <td>C</td>\n",
              "      <td>Sports and travel</td>\n",
              "      <td>16.679289</td>\n",
              "    </tr>\n",
              "  </tbody>\n",
              "</table>\n",
              "</div>"
            ],
            "text/plain": [
              "   branch            product_line  gross_income\n",
              "12      C  Electronic accessories     16.423355\n",
              "13      C     Fashion accessories     15.794923\n",
              "14      C      Food and beverages     17.147803\n",
              "15      C       Health and beauty     15.215500\n",
              "16      C      Home and lifestyle     14.704289\n",
              "17      C       Sports and travel     16.679289"
            ]
          },
          "metadata": {
            "tags": []
          },
          "execution_count": 39
        }
      ]
    },
    {
      "cell_type": "markdown",
      "metadata": {
        "id": "ardBYDWue6Ns"
      },
      "source": [
        "Note your observations."
      ]
    },
    {
      "cell_type": "markdown",
      "metadata": {
        "id": "tlH10xZyniKG"
      },
      "source": [
        "Branch A: The average gross income ranges from 12.76 to 16.42. Health and beauty recorded the least average gross income while home and lifestyle recorded the highest average gross income.\n",
        "\n",
        "Branch B: The average gross income ranges from 12.61 to 17.95. Fashion accessories recorded the least average gross income while Health and beauty recorded the highest average gross income.\n",
        "\n",
        "Branch C: The average gross income ranges from 14.70 to 17.15. Home and lifestyle recorded the least average gross income while Food and beverages recorded the highest average gross income.\n",
        "\n",
        "Food and beverages product line seems to be doing well only in branch C\n",
        "\n",
        "Sports and travel seems to be doing well in all three branches with no much variation across the branches."
      ]
    },
    {
      "cell_type": "markdown",
      "metadata": {
        "id": "Sp7i_jppe6Nt"
      },
      "source": [
        " "
      ]
    },
    {
      "cell_type": "code",
      "metadata": {
        "id": "bwye0SkRe6Nv",
        "outputId": "7fcc6f53-936b-4e02-b7a5-95e2bcd6c4b8",
        "colab": {
          "base_uri": "https://localhost:8080/",
          "height": 173
        }
      },
      "source": [
        "# create a pivot table to find the average rating per branch\n",
        "pd.pivot_table(sales_df, index=['branch'], aggfunc={'rating': np.mean})"
      ],
      "execution_count": 40,
      "outputs": [
        {
          "output_type": "execute_result",
          "data": {
            "text/html": [
              "<div>\n",
              "<style scoped>\n",
              "    .dataframe tbody tr th:only-of-type {\n",
              "        vertical-align: middle;\n",
              "    }\n",
              "\n",
              "    .dataframe tbody tr th {\n",
              "        vertical-align: top;\n",
              "    }\n",
              "\n",
              "    .dataframe thead th {\n",
              "        text-align: right;\n",
              "    }\n",
              "</style>\n",
              "<table border=\"1\" class=\"dataframe\">\n",
              "  <thead>\n",
              "    <tr style=\"text-align: right;\">\n",
              "      <th></th>\n",
              "      <th>rating</th>\n",
              "    </tr>\n",
              "    <tr>\n",
              "      <th>branch</th>\n",
              "      <th></th>\n",
              "    </tr>\n",
              "  </thead>\n",
              "  <tbody>\n",
              "    <tr>\n",
              "      <th>A</th>\n",
              "      <td>7.027059</td>\n",
              "    </tr>\n",
              "    <tr>\n",
              "      <th>B</th>\n",
              "      <td>6.818072</td>\n",
              "    </tr>\n",
              "    <tr>\n",
              "      <th>C</th>\n",
              "      <td>7.072866</td>\n",
              "    </tr>\n",
              "  </tbody>\n",
              "</table>\n",
              "</div>"
            ],
            "text/plain": [
              "          rating\n",
              "branch          \n",
              "A       7.027059\n",
              "B       6.818072\n",
              "C       7.072866"
            ]
          },
          "metadata": {
            "tags": []
          },
          "execution_count": 40
        }
      ]
    },
    {
      "cell_type": "markdown",
      "metadata": {
        "id": "YZK8tTbGe6Nz"
      },
      "source": [
        "Note your observations."
      ]
    },
    {
      "cell_type": "markdown",
      "metadata": {
        "id": "e1ajkHnLrBKD"
      },
      "source": [
        "There is no much variation in rating across the branches with branch C having the highest at 7.07 and branch B having the least with 6.82"
      ]
    },
    {
      "cell_type": "code",
      "metadata": {
        "id": "DQVVhXRDe6N0",
        "outputId": "6de80fd6-7d88-40e3-8e6d-a518f6b88286",
        "colab": {
          "base_uri": "https://localhost:8080/",
          "height": 266
        }
      },
      "source": [
        "# create a pivot table to find the average rating per product_line\n",
        "pd.pivot_table(sales_df, index=['product_line'], aggfunc={'rating': np.mean})"
      ],
      "execution_count": 41,
      "outputs": [
        {
          "output_type": "execute_result",
          "data": {
            "text/html": [
              "<div>\n",
              "<style scoped>\n",
              "    .dataframe tbody tr th:only-of-type {\n",
              "        vertical-align: middle;\n",
              "    }\n",
              "\n",
              "    .dataframe tbody tr th {\n",
              "        vertical-align: top;\n",
              "    }\n",
              "\n",
              "    .dataframe thead th {\n",
              "        text-align: right;\n",
              "    }\n",
              "</style>\n",
              "<table border=\"1\" class=\"dataframe\">\n",
              "  <thead>\n",
              "    <tr style=\"text-align: right;\">\n",
              "      <th></th>\n",
              "      <th>rating</th>\n",
              "    </tr>\n",
              "    <tr>\n",
              "      <th>product_line</th>\n",
              "      <th></th>\n",
              "    </tr>\n",
              "  </thead>\n",
              "  <tbody>\n",
              "    <tr>\n",
              "      <th>Electronic accessories</th>\n",
              "      <td>6.924706</td>\n",
              "    </tr>\n",
              "    <tr>\n",
              "      <th>Fashion accessories</th>\n",
              "      <td>7.029213</td>\n",
              "    </tr>\n",
              "    <tr>\n",
              "      <th>Food and beverages</th>\n",
              "      <td>7.113218</td>\n",
              "    </tr>\n",
              "    <tr>\n",
              "      <th>Health and beauty</th>\n",
              "      <td>7.003289</td>\n",
              "    </tr>\n",
              "    <tr>\n",
              "      <th>Home and lifestyle</th>\n",
              "      <td>6.837500</td>\n",
              "    </tr>\n",
              "    <tr>\n",
              "      <th>Sports and travel</th>\n",
              "      <td>6.916265</td>\n",
              "    </tr>\n",
              "  </tbody>\n",
              "</table>\n",
              "</div>"
            ],
            "text/plain": [
              "                          rating\n",
              "product_line                    \n",
              "Electronic accessories  6.924706\n",
              "Fashion accessories     7.029213\n",
              "Food and beverages      7.113218\n",
              "Health and beauty       7.003289\n",
              "Home and lifestyle      6.837500\n",
              "Sports and travel       6.916265"
            ]
          },
          "metadata": {
            "tags": []
          },
          "execution_count": 41
        }
      ]
    },
    {
      "cell_type": "markdown",
      "metadata": {
        "id": "MzSzbe7Oe6N5"
      },
      "source": [
        "Note your observations."
      ]
    },
    {
      "cell_type": "markdown",
      "metadata": {
        "id": "umE-Ay1srqio"
      },
      "source": [
        "Food and beverages products recorded the highest rating with 7.11 while home and lifestyle products recorded the least with 6.84"
      ]
    },
    {
      "cell_type": "code",
      "metadata": {
        "id": "Z38CUA21e6N6"
      },
      "source": [
        "# get the average rating per product line for each branch and save to a dataframe\n",
        "ratings = pd.pivot_table(sales_df, index=['branch', 'product_line'], aggfunc={'rating' : 'mean'})\n",
        "ratings = ratings.reset_index()\n",
        "\n",
        "# split dataframe into smaller dataframes based on branch\n",
        "ratings_a = ratings.loc[ratings['branch'] == 'A']\n",
        "ratings_b = ratings.loc[ratings['branch'] == 'B']\n",
        "ratings_c = ratings.loc[ratings['branch'] == 'C']"
      ],
      "execution_count": 42,
      "outputs": []
    },
    {
      "cell_type": "code",
      "metadata": {
        "id": "7NYyCbI3e6OC",
        "outputId": "d94a72ff-3c5a-43d9-c158-026ea3d9ffe1",
        "colab": {
          "base_uri": "https://localhost:8080/",
          "height": 235
        }
      },
      "source": [
        "# preview the average ratings per product line for Branch A\n",
        "ratings_a"
      ],
      "execution_count": 43,
      "outputs": [
        {
          "output_type": "execute_result",
          "data": {
            "text/html": [
              "<div>\n",
              "<style scoped>\n",
              "    .dataframe tbody tr th:only-of-type {\n",
              "        vertical-align: middle;\n",
              "    }\n",
              "\n",
              "    .dataframe tbody tr th {\n",
              "        vertical-align: top;\n",
              "    }\n",
              "\n",
              "    .dataframe thead th {\n",
              "        text-align: right;\n",
              "    }\n",
              "</style>\n",
              "<table border=\"1\" class=\"dataframe\">\n",
              "  <thead>\n",
              "    <tr style=\"text-align: right;\">\n",
              "      <th></th>\n",
              "      <th>branch</th>\n",
              "      <th>product_line</th>\n",
              "      <th>rating</th>\n",
              "    </tr>\n",
              "  </thead>\n",
              "  <tbody>\n",
              "    <tr>\n",
              "      <th>0</th>\n",
              "      <td>A</td>\n",
              "      <td>Electronic accessories</td>\n",
              "      <td>6.911667</td>\n",
              "    </tr>\n",
              "    <tr>\n",
              "      <th>1</th>\n",
              "      <td>A</td>\n",
              "      <td>Fashion accessories</td>\n",
              "      <td>6.878431</td>\n",
              "    </tr>\n",
              "    <tr>\n",
              "      <th>2</th>\n",
              "      <td>A</td>\n",
              "      <td>Food and beverages</td>\n",
              "      <td>7.253448</td>\n",
              "    </tr>\n",
              "    <tr>\n",
              "      <th>3</th>\n",
              "      <td>A</td>\n",
              "      <td>Health and beauty</td>\n",
              "      <td>6.900000</td>\n",
              "    </tr>\n",
              "    <tr>\n",
              "      <th>4</th>\n",
              "      <td>A</td>\n",
              "      <td>Home and lifestyle</td>\n",
              "      <td>6.930769</td>\n",
              "    </tr>\n",
              "    <tr>\n",
              "      <th>5</th>\n",
              "      <td>A</td>\n",
              "      <td>Sports and travel</td>\n",
              "      <td>7.257627</td>\n",
              "    </tr>\n",
              "  </tbody>\n",
              "</table>\n",
              "</div>"
            ],
            "text/plain": [
              "  branch            product_line    rating\n",
              "0      A  Electronic accessories  6.911667\n",
              "1      A     Fashion accessories  6.878431\n",
              "2      A      Food and beverages  7.253448\n",
              "3      A       Health and beauty  6.900000\n",
              "4      A      Home and lifestyle  6.930769\n",
              "5      A       Sports and travel  7.257627"
            ]
          },
          "metadata": {
            "tags": []
          },
          "execution_count": 43
        }
      ]
    },
    {
      "cell_type": "code",
      "metadata": {
        "id": "SxM1w7Uze6OH",
        "outputId": "1db2d0cd-9351-4da3-ea02-2ebb6d8d6b8e",
        "colab": {
          "base_uri": "https://localhost:8080/",
          "height": 235
        }
      },
      "source": [
        "# preview the average ratings per product line for Branch B\n",
        "ratings_b"
      ],
      "execution_count": 44,
      "outputs": [
        {
          "output_type": "execute_result",
          "data": {
            "text/html": [
              "<div>\n",
              "<style scoped>\n",
              "    .dataframe tbody tr th:only-of-type {\n",
              "        vertical-align: middle;\n",
              "    }\n",
              "\n",
              "    .dataframe tbody tr th {\n",
              "        vertical-align: top;\n",
              "    }\n",
              "\n",
              "    .dataframe thead th {\n",
              "        text-align: right;\n",
              "    }\n",
              "</style>\n",
              "<table border=\"1\" class=\"dataframe\">\n",
              "  <thead>\n",
              "    <tr style=\"text-align: right;\">\n",
              "      <th></th>\n",
              "      <th>branch</th>\n",
              "      <th>product_line</th>\n",
              "      <th>rating</th>\n",
              "    </tr>\n",
              "  </thead>\n",
              "  <tbody>\n",
              "    <tr>\n",
              "      <th>6</th>\n",
              "      <td>B</td>\n",
              "      <td>Electronic accessories</td>\n",
              "      <td>7.116364</td>\n",
              "    </tr>\n",
              "    <tr>\n",
              "      <th>7</th>\n",
              "      <td>B</td>\n",
              "      <td>Fashion accessories</td>\n",
              "      <td>6.722581</td>\n",
              "    </tr>\n",
              "    <tr>\n",
              "      <th>8</th>\n",
              "      <td>B</td>\n",
              "      <td>Food and beverages</td>\n",
              "      <td>6.994000</td>\n",
              "    </tr>\n",
              "    <tr>\n",
              "      <th>9</th>\n",
              "      <td>B</td>\n",
              "      <td>Health and beauty</td>\n",
              "      <td>7.100000</td>\n",
              "    </tr>\n",
              "    <tr>\n",
              "      <th>10</th>\n",
              "      <td>B</td>\n",
              "      <td>Home and lifestyle</td>\n",
              "      <td>6.516000</td>\n",
              "    </tr>\n",
              "    <tr>\n",
              "      <th>11</th>\n",
              "      <td>B</td>\n",
              "      <td>Sports and travel</td>\n",
              "      <td>6.509677</td>\n",
              "    </tr>\n",
              "  </tbody>\n",
              "</table>\n",
              "</div>"
            ],
            "text/plain": [
              "   branch            product_line    rating\n",
              "6       B  Electronic accessories  7.116364\n",
              "7       B     Fashion accessories  6.722581\n",
              "8       B      Food and beverages  6.994000\n",
              "9       B       Health and beauty  7.100000\n",
              "10      B      Home and lifestyle  6.516000\n",
              "11      B       Sports and travel  6.509677"
            ]
          },
          "metadata": {
            "tags": []
          },
          "execution_count": 44
        }
      ]
    },
    {
      "cell_type": "code",
      "metadata": {
        "id": "y3TkqyYxe6OM",
        "outputId": "09f6cb14-ba4c-4986-9341-31acbe5f9b3e",
        "colab": {
          "base_uri": "https://localhost:8080/",
          "height": 235
        }
      },
      "source": [
        "# preview the average ratings per product line for Branch C\n",
        "ratings_c"
      ],
      "execution_count": 46,
      "outputs": [
        {
          "output_type": "execute_result",
          "data": {
            "text/html": [
              "<div>\n",
              "<style scoped>\n",
              "    .dataframe tbody tr th:only-of-type {\n",
              "        vertical-align: middle;\n",
              "    }\n",
              "\n",
              "    .dataframe tbody tr th {\n",
              "        vertical-align: top;\n",
              "    }\n",
              "\n",
              "    .dataframe thead th {\n",
              "        text-align: right;\n",
              "    }\n",
              "</style>\n",
              "<table border=\"1\" class=\"dataframe\">\n",
              "  <thead>\n",
              "    <tr style=\"text-align: right;\">\n",
              "      <th></th>\n",
              "      <th>branch</th>\n",
              "      <th>product_line</th>\n",
              "      <th>rating</th>\n",
              "    </tr>\n",
              "  </thead>\n",
              "  <tbody>\n",
              "    <tr>\n",
              "      <th>12</th>\n",
              "      <td>C</td>\n",
              "      <td>Electronic accessories</td>\n",
              "      <td>6.747273</td>\n",
              "    </tr>\n",
              "    <tr>\n",
              "      <th>13</th>\n",
              "      <td>C</td>\n",
              "      <td>Fashion accessories</td>\n",
              "      <td>7.440000</td>\n",
              "    </tr>\n",
              "    <tr>\n",
              "      <th>14</th>\n",
              "      <td>C</td>\n",
              "      <td>Food and beverages</td>\n",
              "      <td>7.080303</td>\n",
              "    </tr>\n",
              "    <tr>\n",
              "      <th>15</th>\n",
              "      <td>C</td>\n",
              "      <td>Health and beauty</td>\n",
              "      <td>6.998077</td>\n",
              "    </tr>\n",
              "    <tr>\n",
              "      <th>16</th>\n",
              "      <td>C</td>\n",
              "      <td>Home and lifestyle</td>\n",
              "      <td>7.060000</td>\n",
              "    </tr>\n",
              "    <tr>\n",
              "      <th>17</th>\n",
              "      <td>C</td>\n",
              "      <td>Sports and travel</td>\n",
              "      <td>7.028889</td>\n",
              "    </tr>\n",
              "  </tbody>\n",
              "</table>\n",
              "</div>"
            ],
            "text/plain": [
              "   branch            product_line    rating\n",
              "12      C  Electronic accessories  6.747273\n",
              "13      C     Fashion accessories  7.440000\n",
              "14      C      Food and beverages  7.080303\n",
              "15      C       Health and beauty  6.998077\n",
              "16      C      Home and lifestyle  7.060000\n",
              "17      C       Sports and travel  7.028889"
            ]
          },
          "metadata": {
            "tags": []
          },
          "execution_count": 46
        }
      ]
    },
    {
      "cell_type": "markdown",
      "metadata": {
        "id": "poiHIPYue6OU"
      },
      "source": [
        "Note your observations."
      ]
    },
    {
      "cell_type": "markdown",
      "metadata": {
        "id": "tzzb_p5Mttq3"
      },
      "source": [
        "Branch A: The average ratings ranges from 6.88 to 7.26. Fashion accessories recorded the least average ratings while sports and travel recorded the highest average rating.\n",
        "\n",
        "Branch B: The average ratings ranges from 6.51 to 7.12. Sports and travel recorded the least average ratings while Electronic accessories recorded the highest average rating.\n",
        "\n",
        "Branch C: The average ratings ranges from 6.74 to 7.44. Electronic accessories recorded the least average ratings while Fashion accessories recorded the highest average rating.\n",
        "\n",
        "Fashion accessories, sports and travel and electronic accessories seem to flactuate between highest and lowest ratings across the three branches.\n",
        "\n"
      ]
    },
    {
      "cell_type": "markdown",
      "metadata": {
        "id": "RVB8pHoke6OV"
      },
      "source": [
        "## 5. Summary & Recommendations"
      ]
    },
    {
      "cell_type": "markdown",
      "metadata": {
        "id": "aUBCSB2ie6OW"
      },
      "source": [
        "#### Summary\n",
        "Summarize your findings.\n",
        "\n",
        "#### Recommendations\n",
        "Provide recommendations based on your findings.\n"
      ]
    },
    {
      "cell_type": "markdown",
      "metadata": {
        "id": "0qxUE8zJIPiw"
      },
      "source": [
        "Summary of findings:\n",
        "\n",
        "- Branch C recorded the highest gross income within the quarter with the higest rating.\n",
        "- Home and lifestyle products fetched the most average gross income in that quarter with fashion accesories fetching the least.\n",
        "- Despite Fashion and Food and beverages products having the highest rankings, they recorded the lowest gross incomes."
      ]
    },
    {
      "cell_type": "markdown",
      "metadata": {
        "id": "Ym-nlIFNJjzu"
      },
      "source": [
        "Recommendations:\n",
        "\n",
        "- Branch C must be doing something right that the other branches can learn from. For example, it was able to leverage on the high ratings on food and beverages and in return was able to earn more income. Food and beverages could a great product line to focus on.\n",
        "\n",
        "- Due to the high ratings, fashion and food products have the potential to fetch more income, hence it might be important to look into why customers are not purchasing these products."
      ]
    }
  ]
}